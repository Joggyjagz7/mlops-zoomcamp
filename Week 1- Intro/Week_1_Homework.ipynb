{
  "cells": [
    {
      "cell_type": "markdown",
      "id": "56f694f3",
      "metadata": {
        "id": "56f694f3"
      },
      "source": [
        "# Week 01 | Homework\n",
        "\n",
        "Submission date: June 10, 2022<br>\n",
        "Assignment: [here](https://github.com/DataTalksClub/mlops-zoomcamp/blob/main/01-intro/homework.md)"
      ]
    },
    {
      "cell_type": "code",
      "execution_count": 1,
      "id": "34303f4e",
      "metadata": {
        "id": "34303f4e"
      },
      "outputs": [],
      "source": [
        "import pandas as pd # Data visualization\n",
        "import seaborn as sns\n",
        "import matplotlib.pyplot as plt # Onehot encoding of pickup and drop location\n",
        "from sklearn.feature_extraction import DictVectorizer # Regression using LinearRegression\n",
        "from sklearn.linear_model import LinearRegression\n",
        "from sklearn.linear_model import Lasso\n",
        "from sklearn.linear_model import Ridge # Calculting the score of model\n",
        "from sklearn.metrics import mean_squared_error \n",
        "# Save model\n",
        "import pickle\n",
        "%matplotlib inline"
      ]
    },
    {
      "cell_type": "code",
      "source": [
        "!pip install pyarrow  # For parquet file"
      ],
      "metadata": {
        "colab": {
          "base_uri": "https://localhost:8080/"
        },
        "id": "dnpKZEWWhNet",
        "outputId": "8874cf1a-9fb2-4afd-dafe-fc1f3e9050e6"
      },
      "id": "dnpKZEWWhNet",
      "execution_count": 3,
      "outputs": [
        {
          "output_type": "stream",
          "name": "stdout",
          "text": [
            "Looking in indexes: https://pypi.org/simple, https://us-python.pkg.dev/colab-wheels/public/simple/\n",
            "Requirement already satisfied: pyarrow in /usr/local/lib/python3.7/dist-packages (6.0.1)\n",
            "Requirement already satisfied: numpy>=1.16.6 in /usr/local/lib/python3.7/dist-packages (from pyarrow) (1.21.6)\n"
          ]
        }
      ]
    },
    {
      "cell_type": "code",
      "source": [
        "df = pd.read_parquet('/content/sample_data/fhv_tripdata_2021-01.parquet')"
      ],
      "metadata": {
        "id": "1axGThuDg1Id"
      },
      "id": "1axGThuDg1Id",
      "execution_count": 4,
      "outputs": []
    },
    {
      "cell_type": "code",
      "source": [
        "df.head()"
      ],
      "metadata": {
        "colab": {
          "base_uri": "https://localhost:8080/",
          "height": 250
        },
        "id": "WV5SGsW_i4fV",
        "outputId": "92b59b5d-0639-463a-fb28-7ec7cc11def2"
      },
      "id": "WV5SGsW_i4fV",
      "execution_count": 5,
      "outputs": [
        {
          "output_type": "execute_result",
          "data": {
            "text/plain": [
              "  dispatching_base_num     pickup_datetime    dropOff_datetime  PUlocationID  \\\n",
              "0               B00009 2021-01-01 00:27:00 2021-01-01 00:44:00           NaN   \n",
              "1               B00009 2021-01-01 00:50:00 2021-01-01 01:07:00           NaN   \n",
              "2               B00013 2021-01-01 00:01:00 2021-01-01 01:51:00           NaN   \n",
              "3               B00037 2021-01-01 00:13:09 2021-01-01 00:21:26           NaN   \n",
              "4               B00037 2021-01-01 00:38:31 2021-01-01 00:53:44           NaN   \n",
              "\n",
              "   DOlocationID SR_Flag Affiliated_base_number  \n",
              "0           NaN    None                 B00009  \n",
              "1           NaN    None                 B00009  \n",
              "2           NaN    None                 B00013  \n",
              "3          72.0    None                 B00037  \n",
              "4          61.0    None                 B00037  "
            ],
            "text/html": [
              "\n",
              "  <div id=\"df-ca2567f0-f5a5-4422-8597-f3908c4d7f4c\">\n",
              "    <div class=\"colab-df-container\">\n",
              "      <div>\n",
              "<style scoped>\n",
              "    .dataframe tbody tr th:only-of-type {\n",
              "        vertical-align: middle;\n",
              "    }\n",
              "\n",
              "    .dataframe tbody tr th {\n",
              "        vertical-align: top;\n",
              "    }\n",
              "\n",
              "    .dataframe thead th {\n",
              "        text-align: right;\n",
              "    }\n",
              "</style>\n",
              "<table border=\"1\" class=\"dataframe\">\n",
              "  <thead>\n",
              "    <tr style=\"text-align: right;\">\n",
              "      <th></th>\n",
              "      <th>dispatching_base_num</th>\n",
              "      <th>pickup_datetime</th>\n",
              "      <th>dropOff_datetime</th>\n",
              "      <th>PUlocationID</th>\n",
              "      <th>DOlocationID</th>\n",
              "      <th>SR_Flag</th>\n",
              "      <th>Affiliated_base_number</th>\n",
              "    </tr>\n",
              "  </thead>\n",
              "  <tbody>\n",
              "    <tr>\n",
              "      <th>0</th>\n",
              "      <td>B00009</td>\n",
              "      <td>2021-01-01 00:27:00</td>\n",
              "      <td>2021-01-01 00:44:00</td>\n",
              "      <td>NaN</td>\n",
              "      <td>NaN</td>\n",
              "      <td>None</td>\n",
              "      <td>B00009</td>\n",
              "    </tr>\n",
              "    <tr>\n",
              "      <th>1</th>\n",
              "      <td>B00009</td>\n",
              "      <td>2021-01-01 00:50:00</td>\n",
              "      <td>2021-01-01 01:07:00</td>\n",
              "      <td>NaN</td>\n",
              "      <td>NaN</td>\n",
              "      <td>None</td>\n",
              "      <td>B00009</td>\n",
              "    </tr>\n",
              "    <tr>\n",
              "      <th>2</th>\n",
              "      <td>B00013</td>\n",
              "      <td>2021-01-01 00:01:00</td>\n",
              "      <td>2021-01-01 01:51:00</td>\n",
              "      <td>NaN</td>\n",
              "      <td>NaN</td>\n",
              "      <td>None</td>\n",
              "      <td>B00013</td>\n",
              "    </tr>\n",
              "    <tr>\n",
              "      <th>3</th>\n",
              "      <td>B00037</td>\n",
              "      <td>2021-01-01 00:13:09</td>\n",
              "      <td>2021-01-01 00:21:26</td>\n",
              "      <td>NaN</td>\n",
              "      <td>72.0</td>\n",
              "      <td>None</td>\n",
              "      <td>B00037</td>\n",
              "    </tr>\n",
              "    <tr>\n",
              "      <th>4</th>\n",
              "      <td>B00037</td>\n",
              "      <td>2021-01-01 00:38:31</td>\n",
              "      <td>2021-01-01 00:53:44</td>\n",
              "      <td>NaN</td>\n",
              "      <td>61.0</td>\n",
              "      <td>None</td>\n",
              "      <td>B00037</td>\n",
              "    </tr>\n",
              "  </tbody>\n",
              "</table>\n",
              "</div>\n",
              "      <button class=\"colab-df-convert\" onclick=\"convertToInteractive('df-ca2567f0-f5a5-4422-8597-f3908c4d7f4c')\"\n",
              "              title=\"Convert this dataframe to an interactive table.\"\n",
              "              style=\"display:none;\">\n",
              "        \n",
              "  <svg xmlns=\"http://www.w3.org/2000/svg\" height=\"24px\"viewBox=\"0 0 24 24\"\n",
              "       width=\"24px\">\n",
              "    <path d=\"M0 0h24v24H0V0z\" fill=\"none\"/>\n",
              "    <path d=\"M18.56 5.44l.94 2.06.94-2.06 2.06-.94-2.06-.94-.94-2.06-.94 2.06-2.06.94zm-11 1L8.5 8.5l.94-2.06 2.06-.94-2.06-.94L8.5 2.5l-.94 2.06-2.06.94zm10 10l.94 2.06.94-2.06 2.06-.94-2.06-.94-.94-2.06-.94 2.06-2.06.94z\"/><path d=\"M17.41 7.96l-1.37-1.37c-.4-.4-.92-.59-1.43-.59-.52 0-1.04.2-1.43.59L10.3 9.45l-7.72 7.72c-.78.78-.78 2.05 0 2.83L4 21.41c.39.39.9.59 1.41.59.51 0 1.02-.2 1.41-.59l7.78-7.78 2.81-2.81c.8-.78.8-2.07 0-2.86zM5.41 20L4 18.59l7.72-7.72 1.47 1.35L5.41 20z\"/>\n",
              "  </svg>\n",
              "      </button>\n",
              "      \n",
              "  <style>\n",
              "    .colab-df-container {\n",
              "      display:flex;\n",
              "      flex-wrap:wrap;\n",
              "      gap: 12px;\n",
              "    }\n",
              "\n",
              "    .colab-df-convert {\n",
              "      background-color: #E8F0FE;\n",
              "      border: none;\n",
              "      border-radius: 50%;\n",
              "      cursor: pointer;\n",
              "      display: none;\n",
              "      fill: #1967D2;\n",
              "      height: 32px;\n",
              "      padding: 0 0 0 0;\n",
              "      width: 32px;\n",
              "    }\n",
              "\n",
              "    .colab-df-convert:hover {\n",
              "      background-color: #E2EBFA;\n",
              "      box-shadow: 0px 1px 2px rgba(60, 64, 67, 0.3), 0px 1px 3px 1px rgba(60, 64, 67, 0.15);\n",
              "      fill: #174EA6;\n",
              "    }\n",
              "\n",
              "    [theme=dark] .colab-df-convert {\n",
              "      background-color: #3B4455;\n",
              "      fill: #D2E3FC;\n",
              "    }\n",
              "\n",
              "    [theme=dark] .colab-df-convert:hover {\n",
              "      background-color: #434B5C;\n",
              "      box-shadow: 0px 1px 3px 1px rgba(0, 0, 0, 0.15);\n",
              "      filter: drop-shadow(0px 1px 2px rgba(0, 0, 0, 0.3));\n",
              "      fill: #FFFFFF;\n",
              "    }\n",
              "  </style>\n",
              "\n",
              "      <script>\n",
              "        const buttonEl =\n",
              "          document.querySelector('#df-ca2567f0-f5a5-4422-8597-f3908c4d7f4c button.colab-df-convert');\n",
              "        buttonEl.style.display =\n",
              "          google.colab.kernel.accessAllowed ? 'block' : 'none';\n",
              "\n",
              "        async function convertToInteractive(key) {\n",
              "          const element = document.querySelector('#df-ca2567f0-f5a5-4422-8597-f3908c4d7f4c');\n",
              "          const dataTable =\n",
              "            await google.colab.kernel.invokeFunction('convertToInteractive',\n",
              "                                                     [key], {});\n",
              "          if (!dataTable) return;\n",
              "\n",
              "          const docLinkHtml = 'Like what you see? Visit the ' +\n",
              "            '<a target=\"_blank\" href=https://colab.research.google.com/notebooks/data_table.ipynb>data table notebook</a>'\n",
              "            + ' to learn more about interactive tables.';\n",
              "          element.innerHTML = '';\n",
              "          dataTable['output_type'] = 'display_data';\n",
              "          await google.colab.output.renderOutput(dataTable, element);\n",
              "          const docLink = document.createElement('div');\n",
              "          docLink.innerHTML = docLinkHtml;\n",
              "          element.appendChild(docLink);\n",
              "        }\n",
              "      </script>\n",
              "    </div>\n",
              "  </div>\n",
              "  "
            ]
          },
          "metadata": {},
          "execution_count": 5
        }
      ]
    },
    {
      "cell_type": "markdown",
      "id": "109c6f15",
      "metadata": {
        "id": "109c6f15"
      },
      "source": [
        "## Q1. Read the data for January. How many records are there?"
      ]
    },
    {
      "cell_type": "code",
      "execution_count": 6,
      "id": "acb66f34",
      "metadata": {
        "colab": {
          "base_uri": "https://localhost:8080/"
        },
        "id": "acb66f34",
        "outputId": "6a5c6a7f-1710-414f-f1f1-043d9dfb76b1"
      },
      "outputs": [
        {
          "output_type": "execute_result",
          "data": {
            "text/plain": [
              "1154112"
            ]
          },
          "metadata": {},
          "execution_count": 6
        }
      ],
      "source": [
        "df.shape[0]"
      ]
    },
    {
      "cell_type": "markdown",
      "source": [
        "Answer: 1154112 records"
      ],
      "metadata": {
        "id": "WE0Krj5qtnx2"
      },
      "id": "WE0Krj5qtnx2"
    },
    {
      "cell_type": "markdown",
      "id": "eecd3a3e",
      "metadata": {
        "id": "eecd3a3e"
      },
      "source": [
        "## Q2. What's the average trip duration in January?"
      ]
    },
    {
      "cell_type": "code",
      "execution_count": 7,
      "id": "e6b8427e",
      "metadata": {
        "colab": {
          "base_uri": "https://localhost:8080/"
        },
        "id": "e6b8427e",
        "outputId": "c49185cb-7de2-4fc2-8401-63011a8cf171"
      },
      "outputs": [
        {
          "output_type": "execute_result",
          "data": {
            "text/plain": [
              "count    1.154112e+06\n",
              "mean     1.916722e+01\n",
              "std      3.986922e+02\n",
              "min      1.666667e-02\n",
              "25%      7.766667e+00\n",
              "50%      1.340000e+01\n",
              "75%      2.228333e+01\n",
              "max      4.233710e+05\n",
              "Name: duration, dtype: float64"
            ]
          },
          "metadata": {},
          "execution_count": 7
        }
      ],
      "source": [
        "df['duration'] = df.dropOff_datetime - df.pickup_datetime\n",
        "df.duration = df.duration.apply(lambda td: td.total_seconds() / 60)\n",
        "df.duration.describe()\n",
        "# Average / Mean 19.16"
      ]
    },
    {
      "cell_type": "markdown",
      "source": [
        "Answer: 19.16 seconds"
      ],
      "metadata": {
        "id": "-NARNAeKtXcl"
      },
      "id": "-NARNAeKtXcl"
    },
    {
      "cell_type": "markdown",
      "id": "f8ca788a",
      "metadata": {
        "id": "f8ca788a"
      },
      "source": [
        "## Distribution of the duration variable"
      ]
    },
    {
      "cell_type": "code",
      "execution_count": 8,
      "id": "f0d08802",
      "metadata": {
        "colab": {
          "base_uri": "https://localhost:8080/",
          "height": 351
        },
        "id": "f0d08802",
        "outputId": "0fbd2085-7717-484a-9fd7-ac0f889d3586"
      },
      "outputs": [
        {
          "output_type": "stream",
          "name": "stderr",
          "text": [
            "/usr/local/lib/python3.7/dist-packages/seaborn/distributions.py:2619: FutureWarning: `distplot` is a deprecated function and will be removed in a future version. Please adapt your code to use either `displot` (a figure-level function with similar flexibility) or `histplot` (an axes-level function for histograms).\n",
            "  warnings.warn(msg, FutureWarning)\n"
          ]
        },
        {
          "output_type": "execute_result",
          "data": {
            "text/plain": [
              "<matplotlib.axes._subplots.AxesSubplot at 0x7f2c5e7e2110>"
            ]
          },
          "metadata": {},
          "execution_count": 8
        },
        {
          "output_type": "display_data",
          "data": {
            "text/plain": [
              "<Figure size 432x288 with 1 Axes>"
            ],
            "image/png": "[encoded data removed]"
          },
          "metadata": {
            "needs_background": "light"
          }
        }
      ],
      "source": [
        "sns.distplot(df.duration)"
      ]
    },
    {
      "cell_type": "markdown",
      "id": "8230aa5e",
      "metadata": {
        "id": "8230aa5e"
      },
      "source": [
        "## Q3. How many records did you drop?"
      ]
    },
    {
      "cell_type": "code",
      "execution_count": 9,
      "id": "3dc178c2",
      "metadata": {
        "colab": {
          "base_uri": "https://localhost:8080/"
        },
        "id": "3dc178c2",
        "outputId": "66b7d344-d21d-4dc9-846f-caec43d766b5"
      },
      "outputs": [
        {
          "output_type": "execute_result",
          "data": {
            "text/plain": [
              "44286"
            ]
          },
          "metadata": {},
          "execution_count": 9
        }
      ],
      "source": [
        "pre_count = df.shape[0]\n",
        "df = df[(df.duration >= 1) & (df.duration <= 60 )]\n",
        "post_count = df.shape[0]\n",
        "pre_count - post_count "
      ]
    },
    {
      "cell_type": "markdown",
      "source": [
        "Answer: 44286 records"
      ],
      "metadata": {
        "id": "OimO3Hf1tMQ3"
      },
      "id": "OimO3Hf1tMQ3"
    },
    {
      "cell_type": "markdown",
      "id": "51eb0a1d",
      "metadata": {
        "id": "51eb0a1d"
      },
      "source": [
        "## What's the fractions of missing values for the pickup location ID? I.e. fraction of \"-1\"s after you filled the NAs."
      ]
    },
    {
      "cell_type": "code",
      "execution_count": 10,
      "id": "2b752109",
      "metadata": {
        "id": "2b752109"
      },
      "outputs": [],
      "source": [
        "# df = df.fillna(-1)\n",
        "df['PUlocationID'].fillna(-1, inplace=True)\n",
        "df['DOlocationID'].fillna(-1, inplace=True)"
      ]
    },
    {
      "cell_type": "code",
      "execution_count": 11,
      "id": "9604b7f6",
      "metadata": {
        "colab": {
          "base_uri": "https://localhost:8080/"
        },
        "id": "9604b7f6",
        "outputId": "ba86d822-d4a3-433a-a7a5-8dae0366966c"
      },
      "outputs": [
        {
          "output_type": "execute_result",
          "data": {
            "text/plain": [
              "83.52732770722618"
            ]
          },
          "metadata": {},
          "execution_count": 11
        }
      ],
      "source": [
        "(df['PUlocationID'] == -1.0).sum() / post_count * 100 \n"
      ]
    },
    {
      "cell_type": "markdown",
      "source": [
        "Answer: 83.52%"
      ],
      "metadata": {
        "id": "ITk9Pw8ZtD6b"
      },
      "id": "ITk9Pw8ZtD6b"
    },
    {
      "cell_type": "markdown",
      "id": "a85874c1",
      "metadata": {
        "id": "a85874c1"
      },
      "source": [
        "## Q4. What's the dimensionality of this matrix? (The number of columns)."
      ]
    },
    {
      "cell_type": "code",
      "execution_count": 12,
      "id": "fe698ca0",
      "metadata": {
        "id": "fe698ca0"
      },
      "outputs": [],
      "source": [
        "df = df[(df.duration >= 1) & (df.duration <= 60 )]"
      ]
    },
    {
      "cell_type": "code",
      "execution_count": 13,
      "id": "41b249e3",
      "metadata": {
        "id": "41b249e3"
      },
      "outputs": [],
      "source": [
        "categotical = ['PUlocationID', 'DOlocationID']"
      ]
    },
    {
      "cell_type": "code",
      "execution_count": 14,
      "id": "90504869",
      "metadata": {
        "id": "90504869"
      },
      "outputs": [],
      "source": [
        "df[categotical] = df[categotical].astype(str)"
      ]
    },
    {
      "cell_type": "code",
      "execution_count": 15,
      "id": "2beefcf6",
      "metadata": {
        "id": "2beefcf6"
      },
      "outputs": [],
      "source": [
        "dv = DictVectorizer()"
      ]
    },
    {
      "cell_type": "code",
      "execution_count": 16,
      "id": "41c4ac70",
      "metadata": {
        "id": "41c4ac70"
      },
      "outputs": [],
      "source": [
        "train_dicts = df[categotical].to_dict(orient='records')"
      ]
    },
    {
      "cell_type": "code",
      "execution_count": 17,
      "id": "fb98ea16",
      "metadata": {
        "id": "fb98ea16"
      },
      "outputs": [],
      "source": [
        "X_train = dv.fit_transform(train_dicts)"
      ]
    },
    {
      "cell_type": "code",
      "execution_count": 18,
      "id": "e7c030d7",
      "metadata": {
        "colab": {
          "base_uri": "https://localhost:8080/"
        },
        "id": "e7c030d7",
        "outputId": "43564783-58f4-40a8-fab2-7a5ad5f26d18"
      },
      "outputs": [
        {
          "output_type": "execute_result",
          "data": {
            "text/plain": [
              "<1109826x525 sparse matrix of type '<class 'numpy.float64'>'\n",
              "\twith 2219652 stored elements in Compressed Sparse Row format>"
            ]
          },
          "metadata": {},
          "execution_count": 18
        }
      ],
      "source": [
        "X_train"
      ]
    },
    {
      "cell_type": "markdown",
      "source": [
        "Answer: 109826x525 sparse matrix "
      ],
      "metadata": {
        "id": "8HqiobNekkuZ"
      },
      "id": "8HqiobNekkuZ"
    },
    {
      "cell_type": "code",
      "execution_count": 19,
      "id": "8c55e129",
      "metadata": {
        "id": "8c55e129"
      },
      "outputs": [],
      "source": [
        "target = 'duration'\n",
        "y_train = df[target].values"
      ]
    },
    {
      "cell_type": "code",
      "execution_count": 20,
      "id": "a00ef6d3",
      "metadata": {
        "colab": {
          "base_uri": "https://localhost:8080/"
        },
        "id": "a00ef6d3",
        "outputId": "1e21cd56-0e41-40b5-cb2b-d8c7585d405d"
      },
      "outputs": [
        {
          "output_type": "execute_result",
          "data": {
            "text/plain": [
              "array([17.        , 17.        ,  8.28333333, ..., 16.2       ,\n",
              "       19.43333333, 36.        ])"
            ]
          },
          "metadata": {},
          "execution_count": 20
        }
      ],
      "source": [
        "y_train"
      ]
    },
    {
      "cell_type": "code",
      "execution_count": 21,
      "id": "a0acfeb4",
      "metadata": {
        "id": "a0acfeb4"
      },
      "outputs": [],
      "source": [
        "lr = LinearRegression()\n",
        "lr.fit(X_train, y_train)\n",
        "\n",
        "y_pred = lr.predict(X_train)"
      ]
    },
    {
      "cell_type": "code",
      "execution_count": 22,
      "id": "c361cfc8",
      "metadata": {
        "colab": {
          "base_uri": "https://localhost:8080/",
          "height": 372
        },
        "id": "c361cfc8",
        "outputId": "871be08b-4ff4-4bac-dfe5-2fe470c6cdae"
      },
      "outputs": [
        {
          "output_type": "stream",
          "name": "stderr",
          "text": [
            "/usr/local/lib/python3.7/dist-packages/seaborn/distributions.py:2619: FutureWarning: `distplot` is a deprecated function and will be removed in a future version. Please adapt your code to use either `displot` (a figure-level function with similar flexibility) or `histplot` (an axes-level function for histograms).\n",
            "  warnings.warn(msg, FutureWarning)\n",
            "/usr/local/lib/python3.7/dist-packages/seaborn/distributions.py:2619: FutureWarning: `distplot` is a deprecated function and will be removed in a future version. Please adapt your code to use either `displot` (a figure-level function with similar flexibility) or `histplot` (an axes-level function for histograms).\n",
            "  warnings.warn(msg, FutureWarning)\n"
          ]
        },
        {
          "output_type": "execute_result",
          "data": {
            "text/plain": [
              "<matplotlib.legend.Legend at 0x7f2c41144cd0>"
            ]
          },
          "metadata": {},
          "execution_count": 22
        },
        {
          "output_type": "display_data",
          "data": {
            "text/plain": [
              "<Figure size 432x288 with 1 Axes>"
            ],
            "image/png": "[encoded data removed]"
          },
          "metadata": {
            "needs_background": "light"
          }
        }
      ],
      "source": [
        "sns.distplot(y_pred, label= 'Prediction')\n",
        "sns.distplot(y_train, label= 'Actual')\n",
        "plt.legend()"
      ]
    },
    {
      "cell_type": "code",
      "execution_count": 23,
      "id": "b15376be",
      "metadata": {
        "colab": {
          "base_uri": "https://localhost:8080/"
        },
        "id": "b15376be",
        "outputId": "b7ef74e2-123b-45cc-9bcb-c00324bd2c49"
      },
      "outputs": [
        {
          "output_type": "execute_result",
          "data": {
            "text/plain": [
              "10.528519107210744"
            ]
          },
          "metadata": {},
          "execution_count": 23
        }
      ],
      "source": [
        "mean_squared_error(y_train, y_pred, squared=False)\n",
        "# RSME on train\n",
        "# 10.528519107212968"
      ]
    },
    {
      "cell_type": "markdown",
      "id": "40ecf8b2",
      "metadata": {
        "id": "40ecf8b2"
      },
      "source": [
        "---\n",
        "\n",
        "## Validation on Feb dataset"
      ]
    },
    {
      "cell_type": "code",
      "execution_count": 24,
      "id": "3eb5a97c",
      "metadata": {
        "id": "3eb5a97c"
      },
      "outputs": [],
      "source": [
        "def read_dataframe(df1):\n",
        "    df1 = pd.read_parquet(\"/content/sample_data/fhv_tripdata_2021-02.parquet\")\n",
        "\n",
        "    df1['duration'] = df1.dropOff_datetime - df1.pickup_datetime\n",
        "    df1.duration = df1.duration.apply(lambda td: td.total_seconds() / 60)\n",
        "\n",
        "    df1 = df1[(df1.duration >= 1) & (df1.duration <= 60 )]\n",
        "    \n",
        "    df1['PUlocationID'].fillna(-1, inplace=True)\n",
        "    df1['DOlocationID'].fillna(-1, inplace=True)\n",
        "\n",
        "    categotical = ['PUlocationID', 'DOlocationID']\n",
        "    \n",
        "    df1[categotical] = df1[categotical].astype(str)\n",
        "    # For One Hot encoding, values must be passed as string to be converted into numerical \n",
        "    \n",
        "    return df1"
      ]
    },
    {
      "cell_type": "code",
      "execution_count": 25,
      "id": "df476a97",
      "metadata": {
        "id": "df476a97"
      },
      "outputs": [],
      "source": [
        "# Training dataset   - JAN\n",
        "df_train = read_dataframe('/content/sample_data/fhv_tripdata_2021-01.parquet')\n",
        "# Validation dataset - FEB\n",
        "df_val = read_dataframe('/content/sample_data/fhv_tripdata_2021-02.parquet')"
      ]
    },
    {
      "cell_type": "code",
      "execution_count": 26,
      "id": "5f9632d7",
      "metadata": {
        "colab": {
          "base_uri": "https://localhost:8080/"
        },
        "id": "5f9632d7",
        "outputId": "cfaabfe9-4450-4036-9fa7-ccf525aa8322"
      },
      "outputs": [
        {
          "output_type": "execute_result",
          "data": {
            "text/plain": [
              "(990113, 990113)"
            ]
          },
          "metadata": {},
          "execution_count": 26
        }
      ],
      "source": [
        "# Compare length of both dataset\n",
        "len(df_train), len(df_val)"
      ]
    },
    {
      "cell_type": "code",
      "execution_count": 27,
      "id": "0a40a77b",
      "metadata": {
        "id": "0a40a77b"
      },
      "outputs": [],
      "source": [
        "categotical = ['PUlocationID', 'DOlocationID']\n",
        "\n",
        "dv = DictVectorizer()\n",
        "\n",
        "train_dicts = df_train[categotical].to_dict(orient='records')\n",
        "X_train = dv.fit_transform(train_dicts)\n",
        "\n",
        "val_dicts = df_val[categotical].to_dict(orient='records')\n",
        "X_val = dv.transform(val_dicts)"
      ]
    },
    {
      "cell_type": "code",
      "execution_count": 28,
      "id": "cb3dbeef",
      "metadata": {
        "id": "cb3dbeef"
      },
      "outputs": [],
      "source": [
        "target = 'duration'\n",
        "y_train = df_train[target].values\n",
        "y_val = df_val[target].values"
      ]
    },
    {
      "cell_type": "code",
      "execution_count": 29,
      "id": "003933d8",
      "metadata": {
        "colab": {
          "base_uri": "https://localhost:8080/"
        },
        "id": "003933d8",
        "outputId": "670c99c7-9d9e-4372-e78b-136ab2c6d389"
      },
      "outputs": [
        {
          "output_type": "execute_result",
          "data": {
            "text/plain": [
              "10.95822844199181"
            ]
          },
          "metadata": {},
          "execution_count": 29
        }
      ],
      "source": [
        "lr = LinearRegression()\n",
        "lr.fit(X_train, y_train)\n",
        "\n",
        "y_pred = lr.predict(X_val)\n",
        "\n",
        "mean_squared_error(y_val, y_pred, squared=False)\n",
        "# 11.014283222736072"
      ]
    },
    {
      "cell_type": "code",
      "execution_count": 30,
      "id": "186479ae",
      "metadata": {
        "colab": {
          "base_uri": "https://localhost:8080/",
          "height": 372
        },
        "id": "186479ae",
        "outputId": "83808d89-837c-4f42-f054-3401b3e5aaee"
      },
      "outputs": [
        {
          "output_type": "stream",
          "name": "stderr",
          "text": [
            "/usr/local/lib/python3.7/dist-packages/seaborn/distributions.py:2619: FutureWarning: `distplot` is a deprecated function and will be removed in a future version. Please adapt your code to use either `displot` (a figure-level function with similar flexibility) or `histplot` (an axes-level function for histograms).\n",
            "  warnings.warn(msg, FutureWarning)\n",
            "/usr/local/lib/python3.7/dist-packages/seaborn/distributions.py:2619: FutureWarning: `distplot` is a deprecated function and will be removed in a future version. Please adapt your code to use either `displot` (a figure-level function with similar flexibility) or `histplot` (an axes-level function for histograms).\n",
            "  warnings.warn(msg, FutureWarning)\n"
          ]
        },
        {
          "output_type": "execute_result",
          "data": {
            "text/plain": [
              "<matplotlib.legend.Legend at 0x7f2c227f5410>"
            ]
          },
          "metadata": {},
          "execution_count": 30
        },
        {
          "output_type": "display_data",
          "data": {
            "text/plain": [
              "<Figure size 432x288 with 1 Axes>"
            ],
            "image/png": "[encoded data removed]"
          },
          "metadata": {
            "needs_background": "light"
          }
        }
      ],
      "source": [
        "sns.distplot(y_pred, label= 'Prediction')\n",
        "sns.distplot(y_train, label= 'Actual')\n",
        "plt.legend()"
      ]
    },
    {
      "cell_type": "markdown",
      "id": "139cebaa",
      "metadata": {
        "id": "139cebaa"
      },
      "source": [
        "## Observation\n",
        "\n",
        "The Feb dataset has most values around the 10 min mark, however<br>\n",
        "Our model predicts mostly around 15 mins and 23 mins which is approx 11 min off the actual value considering average."
      ]
    }
  ],
  "metadata": {
    "kernelspec": {
      "display_name": "Python 3 (ipykernel)",
      "language": "python",
      "name": "python3"
    },
    "language_info": {
      "codemirror_mode": {
        "name": "ipython",
        "version": 3
      },
      "file_extension": ".py",
      "mimetype": "text/x-python",
      "name": "python",
      "nbconvert_exporter": "python",
      "pygments_lexer": "ipython3",
      "version": "3.9.12"
    },
    "colab": {
      "name": "Week 1 Homework.ipynb",
      "provenance": []
    }
  },
  "nbformat": 4,
  "nbformat_minor": 5
}